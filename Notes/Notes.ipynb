{
 "cells": [
  {
   "cell_type": "markdown",
   "id": "07380704-14b2-485c-93bb-84f5dfad1671",
   "metadata": {},
   "source": [
    "print(test)"
   ]
  },
  {
   "cell_type": "markdown",
   "id": "bbc48ed7-6079-4dc6-ba48-e9f399d90758",
   "metadata": {},
   "source": [
    "print(test)"
   ]
  },
  {
   "cell_type": "code",
   "execution_count": null,
   "id": "af8533c6-cc27-4089-b4b1-34cd1b5984b1",
   "metadata": {},
   "outputs": [],
   "source": [
    "print('test')"
   ]
  }
 ],
 "metadata": {
  "kernelspec": {
   "display_name": "Python 3 (ipykernel)",
   "language": "python",
   "name": "python3"
  },
  "language_info": {
   "codemirror_mode": {
    "name": "ipython",
    "version": 3
   },
   "file_extension": ".py",
   "mimetype": "text/x-python",
   "name": "python",
   "nbconvert_exporter": "python",
   "pygments_lexer": "ipython3",
   "version": "3.12.1"
  }
 },
 "nbformat": 4,
 "nbformat_minor": 5
}
